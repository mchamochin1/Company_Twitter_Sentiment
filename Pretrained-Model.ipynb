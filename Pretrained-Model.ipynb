{
 "cells": [
  {
   "cell_type": "markdown",
   "metadata": {},
   "source": [
    "# Determine the sentiment of the 3 tweets with the greatest repercussion"
   ]
  },
  {
   "cell_type": "code",
   "execution_count": 2,
   "metadata": {},
   "outputs": [],
   "source": [
    "import pandas as pd\n",
    "from variables import FILENAME\n",
    "\n",
    "df = pd.read_csv(FILENAME, sep=';')\n",
    "df.drop(['Unnamed: 0'], axis=1, inplace=True)\n"
   ]
  },
  {
   "cell_type": "code",
   "execution_count": 3,
   "metadata": {},
   "outputs": [],
   "source": [
    "pd.set_option('display.max_colwidth', None)"
   ]
  },
  {
   "cell_type": "code",
   "execution_count": 4,
   "metadata": {},
   "outputs": [
    {
     "data": {
      "text/html": [
       "<div>\n",
       "<style scoped>\n",
       "    .dataframe tbody tr th:only-of-type {\n",
       "        vertical-align: middle;\n",
       "    }\n",
       "\n",
       "    .dataframe tbody tr th {\n",
       "        vertical-align: top;\n",
       "    }\n",
       "\n",
       "    .dataframe thead th {\n",
       "        text-align: right;\n",
       "    }\n",
       "</style>\n",
       "<table border=\"1\" class=\"dataframe\">\n",
       "  <thead>\n",
       "    <tr style=\"text-align: right;\">\n",
       "      <th></th>\n",
       "      <th>tweet_id</th>\n",
       "      <th>author_name</th>\n",
       "      <th>like_count</th>\n",
       "    </tr>\n",
       "  </thead>\n",
       "  <tbody>\n",
       "    <tr>\n",
       "      <th>10</th>\n",
       "      <td>1519706866703638529</td>\n",
       "      <td>Jose Maria Torralba</td>\n",
       "      <td>15</td>\n",
       "    </tr>\n",
       "    <tr>\n",
       "      <th>73</th>\n",
       "      <td>1493902011242274825</td>\n",
       "      <td>Eduvigis Ortiz</td>\n",
       "      <td>13</td>\n",
       "    </tr>\n",
       "    <tr>\n",
       "      <th>62</th>\n",
       "      <td>1500124541137428490</td>\n",
       "      <td>Pablo Oliete</td>\n",
       "      <td>13</td>\n",
       "    </tr>\n",
       "    <tr>\n",
       "      <th>44</th>\n",
       "      <td>1513848281801056258</td>\n",
       "      <td>Mánu Fosela</td>\n",
       "      <td>12</td>\n",
       "    </tr>\n",
       "    <tr>\n",
       "      <th>72</th>\n",
       "      <td>1494627201794428930</td>\n",
       "      <td>Indra</td>\n",
       "      <td>8</td>\n",
       "    </tr>\n",
       "    <tr>\n",
       "      <th>...</th>\n",
       "      <td>...</td>\n",
       "      <td>...</td>\n",
       "      <td>...</td>\n",
       "    </tr>\n",
       "    <tr>\n",
       "      <th>71</th>\n",
       "      <td>1495055146769915908</td>\n",
       "      <td>Pep Iberico</td>\n",
       "      <td>0</td>\n",
       "    </tr>\n",
       "    <tr>\n",
       "      <th>29</th>\n",
       "      <td>1517121644682256385</td>\n",
       "      <td>Gemma R.B.</td>\n",
       "      <td>0</td>\n",
       "    </tr>\n",
       "    <tr>\n",
       "      <th>28</th>\n",
       "      <td>1517147713254526978</td>\n",
       "      <td>The Bridge</td>\n",
       "      <td>0</td>\n",
       "    </tr>\n",
       "    <tr>\n",
       "      <th>27</th>\n",
       "      <td>1517396691443490816</td>\n",
       "      <td>capgemini_es</td>\n",
       "      <td>0</td>\n",
       "    </tr>\n",
       "    <tr>\n",
       "      <th>0</th>\n",
       "      <td>1526946552492789760</td>\n",
       "      <td>The Bridge</td>\n",
       "      <td>0</td>\n",
       "    </tr>\n",
       "  </tbody>\n",
       "</table>\n",
       "<p>98 rows × 3 columns</p>\n",
       "</div>"
      ],
      "text/plain": [
       "               tweet_id          author_name  like_count\n",
       "10  1519706866703638529  Jose Maria Torralba          15\n",
       "73  1493902011242274825       Eduvigis Ortiz          13\n",
       "62  1500124541137428490         Pablo Oliete          13\n",
       "44  1513848281801056258          Mánu Fosela          12\n",
       "72  1494627201794428930                Indra           8\n",
       "..                  ...                  ...         ...\n",
       "71  1495055146769915908          Pep Iberico           0\n",
       "29  1517121644682256385           Gemma R.B.           0\n",
       "28  1517147713254526978           The Bridge           0\n",
       "27  1517396691443490816         capgemini_es           0\n",
       "0   1526946552492789760           The Bridge           0\n",
       "\n",
       "[98 rows x 3 columns]"
      ]
     },
     "execution_count": 4,
     "metadata": {},
     "output_type": "execute_result"
    }
   ],
   "source": [
    "df[['tweet_id','author_name','like_count']].sort_values('like_count',ascending=False)"
   ]
  },
  {
   "cell_type": "markdown",
   "metadata": {},
   "source": [
    "The tweets with the greatest impact are in column 10, 73 and 62"
   ]
  },
  {
   "cell_type": "code",
   "execution_count": 5,
   "metadata": {},
   "outputs": [
    {
     "data": {
      "text/plain": [
       "'En breve empezamos la charla sobre RV y Psicología! Todo ready! @TheBridge_Tech https://t.co/lW3fvKhcGZ'"
      ]
     },
     "execution_count": 5,
     "metadata": {},
     "output_type": "execute_result"
    }
   ],
   "source": [
    "df.iloc[10,].tweet_text"
   ]
  },
  {
   "cell_type": "code",
   "execution_count": 6,
   "metadata": {},
   "outputs": [
    {
     "data": {
      "text/plain": [
       "tweet_id                                                                                                                                                                                                                                     1500124541137428490\n",
       "tweet_text         Día para agradecer a @TheBridge_Tech y @Glovo_ES la oportunidad que han dado a estos dos cracks para formarse con @codeorg en programación por bloques en un curso de 48 horas de duración.\\nBravo 🙌 \\n🔝🦸🏻‍♂️🦸🏻‍♀️🏭🇪🇸 https://t.co/ZTCrroHQTc\n",
       "created_at                                                                                                                                                                                                                             2022-03-05 15:02:16+00:00\n",
       "author_id                                                                                                                                                                                                                                              363153431\n",
       "author_name                                                                                                                                                                                                                                         Pablo Oliete\n",
       "author_username                                                                                                                                                                                                                                      pablooliete\n",
       "retweet_count                                                                                                                                                                                                                                                  0\n",
       "reply_count                                                                                                                                                                                                                                                    0\n",
       "like_count                                                                                                                                                                                                                                                    13\n",
       "quote_count                                                                                                                                                                                                                                                    0\n",
       "Name: 62, dtype: object"
      ]
     },
     "execution_count": 6,
     "metadata": {},
     "output_type": "execute_result"
    }
   ],
   "source": [
    "df.iloc[62,]"
   ]
  },
  {
   "cell_type": "code",
   "execution_count": 7,
   "metadata": {},
   "outputs": [
    {
     "data": {
      "text/plain": [
       "tweet_id                                                                                                                                                                                                                                                                                                      1493902011242274825\n",
       "tweet_text         Muy #agradecida del gran #trabajo en #equipo para lanzar nuestro #W4C #mentoring #cybersecurity @TheBridge_Tech @rdiazmoles @marobserva @dankominsky @juliapereav @AnaAyerbe @EvusRoman @maicaag @SGarBecares @peritecno @Maitenas @Women4Cyber @iagorguezgarcia @tima_soni @unicc_ict https://t.co/KNdkUEp3sf\n",
       "created_at                                                                                                                                                                                                                                                                                              2022-02-16 10:56:09+00:00\n",
       "author_id                                                                                                                                                                                                                                                                                                              2819387949\n",
       "author_name                                                                                                                                                                                                                                                                                                        Eduvigis Ortiz\n",
       "author_username                                                                                                                                                                                                                                                                                                     EduvigisOrtiz\n",
       "retweet_count                                                                                                                                                                                                                                                                                                                   9\n",
       "reply_count                                                                                                                                                                                                                                                                                                                     1\n",
       "like_count                                                                                                                                                                                                                                                                                                                     13\n",
       "quote_count                                                                                                                                                                                                                                                                                                                     0\n",
       "Name: 73, dtype: object"
      ]
     },
     "execution_count": 7,
     "metadata": {},
     "output_type": "execute_result"
    }
   ],
   "source": [
    "df.iloc[73,]"
   ]
  },
  {
   "cell_type": "markdown",
   "metadata": {},
   "source": [
    "### a.\t¿Cuáles son las predicciones? Interpreta los resultados."
   ]
  },
  {
   "cell_type": "code",
   "execution_count": 8,
   "metadata": {},
   "outputs": [
    {
     "data": {
      "text/html": [
       "<div>\n",
       "<style scoped>\n",
       "    .dataframe tbody tr th:only-of-type {\n",
       "        vertical-align: middle;\n",
       "    }\n",
       "\n",
       "    .dataframe tbody tr th {\n",
       "        vertical-align: top;\n",
       "    }\n",
       "\n",
       "    .dataframe thead th {\n",
       "        text-align: right;\n",
       "    }\n",
       "</style>\n",
       "<table border=\"1\" class=\"dataframe\">\n",
       "  <thead>\n",
       "    <tr style=\"text-align: right;\">\n",
       "      <th></th>\n",
       "      <th>content</th>\n",
       "      <th>content_clean</th>\n",
       "      <th>Polarity</th>\n",
       "      <th>Polarity_Pos</th>\n",
       "      <th>Polarity_Neg</th>\n",
       "    </tr>\n",
       "  </thead>\n",
       "  <tbody>\n",
       "    <tr>\n",
       "      <th>0</th>\n",
       "      <td>En breve empezamos la charla sobre RV y Psicología! Todo ready! @TheBridge_Tech https://t.co/lW3fvKhcGZ</td>\n",
       "      <td>brev empez charl rv psicolog ready thebridge_tech {link}</td>\n",
       "      <td>0</td>\n",
       "      <td>0.870978</td>\n",
       "      <td>0.129022</td>\n",
       "    </tr>\n",
       "  </tbody>\n",
       "</table>\n",
       "</div>"
      ],
      "text/plain": [
       "                                                                                                   content  \\\n",
       "0  En breve empezamos la charla sobre RV y Psicología! Todo ready! @TheBridge_Tech https://t.co/lW3fvKhcGZ   \n",
       "\n",
       "                                              content_clean  Polarity  \\\n",
       "0  brev empez charl rv psicolog ready thebridge_tech {link}         0   \n",
       "\n",
       "   Polarity_Pos  Polarity_Neg  \n",
       "0      0.870978      0.129022  "
      ]
     },
     "execution_count": 8,
     "metadata": {},
     "output_type": "execute_result"
    }
   ],
   "source": [
    "from functions import predictSentiment\n",
    "\n",
    "df_10 = predictSentiment(df.iloc[10,].tweet_text)\n",
    "df_10\n"
   ]
  },
  {
   "cell_type": "code",
   "execution_count": 20,
   "metadata": {},
   "outputs": [
    {
     "name": "stdout",
     "output_type": "stream",
     "text": [
      "{\"Polarity\": 0, \"Polarity_Pos\": 0.8709775168649736, \"Polarity_Neg\": 0.12902248313502646}\n"
     ]
    }
   ],
   "source": [
    "import json\n",
    "data_set = {'Polarity' : df_10['Polarity'].item(), \n",
    "            'Polarity_Pos' : df_10['Polarity_Pos'].item(), \n",
    "            'Polarity_Neg' : df_10['Polarity_Neg'].item()}\n",
    "\n",
    "json_data = json.dumps(data_set)\n",
    "print(json_data)"
   ]
  },
  {
   "cell_type": "markdown",
   "metadata": {},
   "source": [
    "Polaridad positiva"
   ]
  },
  {
   "cell_type": "code",
   "execution_count": 30,
   "metadata": {},
   "outputs": [
    {
     "data": {
      "text/html": [
       "<div>\n",
       "<style scoped>\n",
       "    .dataframe tbody tr th:only-of-type {\n",
       "        vertical-align: middle;\n",
       "    }\n",
       "\n",
       "    .dataframe tbody tr th {\n",
       "        vertical-align: top;\n",
       "    }\n",
       "\n",
       "    .dataframe thead th {\n",
       "        text-align: right;\n",
       "    }\n",
       "</style>\n",
       "<table border=\"1\" class=\"dataframe\">\n",
       "  <thead>\n",
       "    <tr style=\"text-align: right;\">\n",
       "      <th></th>\n",
       "      <th>content</th>\n",
       "      <th>content_clean</th>\n",
       "      <th>Polarity</th>\n",
       "      <th>Polarity_Pos</th>\n",
       "      <th>Polarity_Neg</th>\n",
       "    </tr>\n",
       "  </thead>\n",
       "  <tbody>\n",
       "    <tr>\n",
       "      <th>0</th>\n",
       "      <td>Día para agradecer a @TheBridge_Tech y @Glovo_ES la oportunidad que han dado a estos dos cracks para formarse con @codeorg en programación por bloques en un curso de 48 horas de duración.\\nBravo 🙌 \\n🔝🦸🏻‍♂️🦸🏻‍♀️🏭🇪🇸 https://t.co/ZTCrroHQTc</td>\n",
       "      <td>dia agradec thebridge_tech glovo_ oportun dad dos cracks form codeorg program bloqu curs hor duracion brav 🙌 🔝🦸🏻‍♂️🦸🏻‍♀️🏭🇪🇸 {link}</td>\n",
       "      <td>0</td>\n",
       "      <td>0.722942</td>\n",
       "      <td>0.277058</td>\n",
       "    </tr>\n",
       "  </tbody>\n",
       "</table>\n",
       "</div>"
      ],
      "text/plain": [
       "                                                                                                                                                                                                                                         content  \\\n",
       "0  Día para agradecer a @TheBridge_Tech y @Glovo_ES la oportunidad que han dado a estos dos cracks para formarse con @codeorg en programación por bloques en un curso de 48 horas de duración.\\nBravo 🙌 \\n🔝🦸🏻‍♂️🦸🏻‍♀️🏭🇪🇸 https://t.co/ZTCrroHQTc   \n",
       "\n",
       "                                                                                                                        content_clean  \\\n",
       "0  dia agradec thebridge_tech glovo_ oportun dad dos cracks form codeorg program bloqu curs hor duracion brav 🙌 🔝🦸🏻‍♂️🦸🏻‍♀️🏭🇪🇸 {link}   \n",
       "\n",
       "   Polarity  Polarity_Pos  Polarity_Neg  \n",
       "0         0      0.722942      0.277058  "
      ]
     },
     "execution_count": 30,
     "metadata": {},
     "output_type": "execute_result"
    }
   ],
   "source": [
    "df_62 = predictSentiment(df.iloc[62,].tweet_text)\n",
    "df_62"
   ]
  },
  {
   "cell_type": "markdown",
   "metadata": {},
   "source": [
    "Polaridad positiva"
   ]
  },
  {
   "cell_type": "markdown",
   "metadata": {},
   "source": [
    "### b.\t What variables have been able to influence the model's predictions the most?"
   ]
  },
  {
   "cell_type": "markdown",
   "metadata": {},
   "source": [
    "df_10 -> ready\n",
    "df_62 -> agradecer oportunidad crack\n",
    "df_73 -> gran equipo"
   ]
  },
  {
   "cell_type": "markdown",
   "metadata": {},
   "source": [
    "### c.\t How could you improve the model?"
   ]
  },
  {
   "cell_type": "markdown",
   "metadata": {},
   "source": [
    "* Vectorization by converting each review to a numeric representation, which we call vectorization.\n",
    "* n-grams by adding two or three word sequences (bigrams or trigrams)\n",
    "* TF-IDF is a weighting factor that we can use in place of binary or word count representations. tf-idf aims to represent the number of times a given word appears in a document (a movie review in our case) relative to the number of documents in the corpus that the word appears in.\n"
   ]
  },
  {
   "cell_type": "markdown",
   "metadata": {},
   "source": [
    "### d.\t What other opportunities can you think of where other ML models could be applied?"
   ]
  },
  {
   "cell_type": "markdown",
   "metadata": {},
   "source": [
    "* Sentiment analysis with OpenAI\n",
    "* Chatbox with GPT-3"
   ]
  }
 ],
 "metadata": {
  "interpreter": {
   "hash": "21ab4b72b60449af3fe632813181bd722bdf790ffb7d61f4915724480da6eb87"
  },
  "kernelspec": {
   "display_name": "Python 3.7.4 64-bit",
   "language": "python",
   "name": "python3"
  },
  "language_info": {
   "codemirror_mode": {
    "name": "ipython",
    "version": 3
   },
   "file_extension": ".py",
   "mimetype": "text/x-python",
   "name": "python",
   "nbconvert_exporter": "python",
   "pygments_lexer": "ipython3",
   "version": "3.7.4"
  },
  "orig_nbformat": 4
 },
 "nbformat": 4,
 "nbformat_minor": 2
}
