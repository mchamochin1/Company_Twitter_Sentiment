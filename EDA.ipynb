{
 "cells": [
  {
   "cell_type": "code",
   "execution_count": 4,
   "metadata": {},
   "outputs": [],
   "source": [
    "import pandas as pd\n",
    "from variables import FILENAME\n",
    "\n",
    "df = pd.read_csv(FILENAME, sep=';')\n",
    "df.drop(['Unnamed: 0'], axis=1, inplace=True)\n"
   ]
  },
  {
   "cell_type": "code",
   "execution_count": 5,
   "metadata": {},
   "outputs": [
    {
     "data": {
      "text/html": [
       "<div>\n",
       "<style scoped>\n",
       "    .dataframe tbody tr th:only-of-type {\n",
       "        vertical-align: middle;\n",
       "    }\n",
       "\n",
       "    .dataframe tbody tr th {\n",
       "        vertical-align: top;\n",
       "    }\n",
       "\n",
       "    .dataframe thead th {\n",
       "        text-align: right;\n",
       "    }\n",
       "</style>\n",
       "<table border=\"1\" class=\"dataframe\">\n",
       "  <thead>\n",
       "    <tr style=\"text-align: right;\">\n",
       "      <th></th>\n",
       "      <th>tweet_id</th>\n",
       "      <th>tweet_text</th>\n",
       "      <th>created_at</th>\n",
       "      <th>author_id</th>\n",
       "      <th>author_name</th>\n",
       "      <th>author_username</th>\n",
       "      <th>retweet_count</th>\n",
       "      <th>reply_count</th>\n",
       "      <th>like_count</th>\n",
       "      <th>quote_count</th>\n",
       "    </tr>\n",
       "  </thead>\n",
       "  <tbody>\n",
       "    <tr>\n",
       "      <th>0</th>\n",
       "      <td>1526946552492789760</td>\n",
       "      <td>Esta es la historia de Isis🤗 que decidió hacer...</td>\n",
       "      <td>2022-05-18 15:23:22+00:00</td>\n",
       "      <td>1162694149956603904</td>\n",
       "      <td>The Bridge</td>\n",
       "      <td>TheBridge_Tech</td>\n",
       "      <td>0</td>\n",
       "      <td>0</td>\n",
       "      <td>0</td>\n",
       "      <td>0</td>\n",
       "    </tr>\n",
       "    <tr>\n",
       "      <th>1</th>\n",
       "      <td>1526886949839065088</td>\n",
       "      <td>Gracias @victorianoI y equipo por el análisis ...</td>\n",
       "      <td>2022-05-18 11:26:31+00:00</td>\n",
       "      <td>1162694149956603904</td>\n",
       "      <td>The Bridge</td>\n",
       "      <td>TheBridge_Tech</td>\n",
       "      <td>0</td>\n",
       "      <td>0</td>\n",
       "      <td>0</td>\n",
       "      <td>0</td>\n",
       "    </tr>\n",
       "    <tr>\n",
       "      <th>2</th>\n",
       "      <td>1526842834741039105</td>\n",
       "      <td>¿Cómo combatir el paro juvenil🥵? #tipdeldia En...</td>\n",
       "      <td>2022-05-18 08:31:13+00:00</td>\n",
       "      <td>1336771626306854912</td>\n",
       "      <td>Bcas</td>\n",
       "      <td>Bcasapp</td>\n",
       "      <td>4</td>\n",
       "      <td>1</td>\n",
       "      <td>8</td>\n",
       "      <td>0</td>\n",
       "    </tr>\n",
       "    <tr>\n",
       "      <th>3</th>\n",
       "      <td>1526479745185198080</td>\n",
       "      <td>Los perfiles tecnológicos más demandados en el...</td>\n",
       "      <td>2022-05-17 08:28:26+00:00</td>\n",
       "      <td>114739070</td>\n",
       "      <td>Periódico PublicidAD</td>\n",
       "      <td>PdelaPublicidad</td>\n",
       "      <td>2</td>\n",
       "      <td>0</td>\n",
       "      <td>1</td>\n",
       "      <td>0</td>\n",
       "    </tr>\n",
       "    <tr>\n",
       "      <th>4</th>\n",
       "      <td>1526133158743359488</td>\n",
       "      <td>La 2da presentación-coloquio del #LibroIC en #...</td>\n",
       "      <td>2022-05-16 09:31:13+00:00</td>\n",
       "      <td>15993641</td>\n",
       "      <td>Amalio A. Rey</td>\n",
       "      <td>arey</td>\n",
       "      <td>4</td>\n",
       "      <td>0</td>\n",
       "      <td>4</td>\n",
       "      <td>0</td>\n",
       "    </tr>\n",
       "  </tbody>\n",
       "</table>\n",
       "</div>"
      ],
      "text/plain": [
       "              tweet_id                                         tweet_text  \\\n",
       "0  1526946552492789760  Esta es la historia de Isis🤗 que decidió hacer...   \n",
       "1  1526886949839065088  Gracias @victorianoI y equipo por el análisis ...   \n",
       "2  1526842834741039105  ¿Cómo combatir el paro juvenil🥵? #tipdeldia En...   \n",
       "3  1526479745185198080  Los perfiles tecnológicos más demandados en el...   \n",
       "4  1526133158743359488  La 2da presentación-coloquio del #LibroIC en #...   \n",
       "\n",
       "                  created_at            author_id           author_name  \\\n",
       "0  2022-05-18 15:23:22+00:00  1162694149956603904            The Bridge   \n",
       "1  2022-05-18 11:26:31+00:00  1162694149956603904            The Bridge   \n",
       "2  2022-05-18 08:31:13+00:00  1336771626306854912                  Bcas   \n",
       "3  2022-05-17 08:28:26+00:00            114739070  Periódico PublicidAD   \n",
       "4  2022-05-16 09:31:13+00:00             15993641         Amalio A. Rey   \n",
       "\n",
       "   author_username  retweet_count  reply_count  like_count  quote_count  \n",
       "0   TheBridge_Tech              0            0           0            0  \n",
       "1   TheBridge_Tech              0            0           0            0  \n",
       "2          Bcasapp              4            1           8            0  \n",
       "3  PdelaPublicidad              2            0           1            0  \n",
       "4             arey              4            0           4            0  "
      ]
     },
     "execution_count": 5,
     "metadata": {},
     "output_type": "execute_result"
    }
   ],
   "source": [
    "df.head()"
   ]
  },
  {
   "cell_type": "code",
   "execution_count": 6,
   "metadata": {},
   "outputs": [
    {
     "name": "stdout",
     "output_type": "stream",
     "text": [
      "<class 'pandas.core.frame.DataFrame'>\n",
      "RangeIndex: 98 entries, 0 to 97\n",
      "Data columns (total 10 columns):\n",
      " #   Column           Non-Null Count  Dtype \n",
      "---  ------           --------------  ----- \n",
      " 0   tweet_id         98 non-null     int64 \n",
      " 1   tweet_text       98 non-null     object\n",
      " 2   created_at       98 non-null     object\n",
      " 3   author_id        98 non-null     int64 \n",
      " 4   author_name      98 non-null     object\n",
      " 5   author_username  98 non-null     object\n",
      " 6   retweet_count    98 non-null     int64 \n",
      " 7   reply_count      98 non-null     int64 \n",
      " 8   like_count       98 non-null     int64 \n",
      " 9   quote_count      98 non-null     int64 \n",
      "dtypes: int64(6), object(4)\n",
      "memory usage: 7.8+ KB\n"
     ]
    }
   ],
   "source": [
    "df.info()"
   ]
  },
  {
   "cell_type": "code",
   "execution_count": 31,
   "metadata": {},
   "outputs": [],
   "source": [
    "df['tweet_text'] = df['tweet_text'].astype('string')\n",
    "df['created_at']= pd.to_datetime(df['created_at'])\n",
    "df['author_name'] = df['author_name'].astype('string')\n",
    "df['author_username'] = df['author_username'].astype('string')"
   ]
  },
  {
   "cell_type": "code",
   "execution_count": 32,
   "metadata": {},
   "outputs": [
    {
     "name": "stdout",
     "output_type": "stream",
     "text": [
      "<class 'pandas.core.frame.DataFrame'>\n",
      "RangeIndex: 98 entries, 0 to 97\n",
      "Data columns (total 11 columns):\n",
      " #   Column           Non-Null Count  Dtype              \n",
      "---  ------           --------------  -----              \n",
      " 0   tweet_id         98 non-null     int64              \n",
      " 1   tweet_text       98 non-null     string             \n",
      " 2   created_at       98 non-null     datetime64[ns, UTC]\n",
      " 3   author_id        98 non-null     int64              \n",
      " 4   author_name      98 non-null     string             \n",
      " 5   author_username  98 non-null     string             \n",
      " 6   retweet_count    98 non-null     int64              \n",
      " 7   reply_count      98 non-null     int64              \n",
      " 8   like_count       98 non-null     int64              \n",
      " 9   quote_count      98 non-null     int64              \n",
      " 10  month            98 non-null     int64              \n",
      "dtypes: datetime64[ns, UTC](1), int64(7), string(3)\n",
      "memory usage: 8.5 KB\n"
     ]
    }
   ],
   "source": [
    "df.info()"
   ]
  },
  {
   "cell_type": "markdown",
   "metadata": {},
   "source": [
    "### a. ¿Cuál es el tweet con mayor repercusión social?"
   ]
  },
  {
   "cell_type": "code",
   "execution_count": 21,
   "metadata": {},
   "outputs": [
    {
     "data": {
      "text/html": [
       "<div>\n",
       "<style scoped>\n",
       "    .dataframe tbody tr th:only-of-type {\n",
       "        vertical-align: middle;\n",
       "    }\n",
       "\n",
       "    .dataframe tbody tr th {\n",
       "        vertical-align: top;\n",
       "    }\n",
       "\n",
       "    .dataframe thead th {\n",
       "        text-align: right;\n",
       "    }\n",
       "</style>\n",
       "<table border=\"1\" class=\"dataframe\">\n",
       "  <thead>\n",
       "    <tr style=\"text-align: right;\">\n",
       "      <th></th>\n",
       "      <th>tweet_id</th>\n",
       "      <th>tweet_text</th>\n",
       "      <th>created_at</th>\n",
       "      <th>author_id</th>\n",
       "      <th>author_name</th>\n",
       "      <th>author_username</th>\n",
       "      <th>retweet_count</th>\n",
       "      <th>reply_count</th>\n",
       "      <th>like_count</th>\n",
       "      <th>quote_count</th>\n",
       "    </tr>\n",
       "  </thead>\n",
       "  <tbody>\n",
       "    <tr>\n",
       "      <th>10</th>\n",
       "      <td>1519706866703638529</td>\n",
       "      <td>En breve empezamos la charla sobre RV y Psicol...</td>\n",
       "      <td>2022-04-28 15:55:26+00:00</td>\n",
       "      <td>3294953441</td>\n",
       "      <td>Jose Maria Torralba</td>\n",
       "      <td>JM_Torralba_</td>\n",
       "      <td>1</td>\n",
       "      <td>0</td>\n",
       "      <td>15</td>\n",
       "      <td>0</td>\n",
       "    </tr>\n",
       "  </tbody>\n",
       "</table>\n",
       "</div>"
      ],
      "text/plain": [
       "               tweet_id                                         tweet_text  \\\n",
       "10  1519706866703638529  En breve empezamos la charla sobre RV y Psicol...   \n",
       "\n",
       "                   created_at   author_id          author_name  \\\n",
       "10  2022-04-28 15:55:26+00:00  3294953441  Jose Maria Torralba   \n",
       "\n",
       "   author_username  retweet_count  reply_count  like_count  quote_count  \n",
       "10    JM_Torralba_              1            0          15            0  "
      ]
     },
     "execution_count": 21,
     "metadata": {},
     "output_type": "execute_result"
    }
   ],
   "source": [
    "max_likes = int(df[['like_count']].max())\n",
    "df[df['like_count'] == max_likes]"
   ]
  },
  {
   "cell_type": "markdown",
   "metadata": {},
   "source": [
    "### b. ¿Cuál es el usuario que más menciona a la escuela?"
   ]
  },
  {
   "cell_type": "markdown",
   "metadata": {},
   "source": [
    "El usuario que más la menciona @TheBridge_Tech es 'MujeresaSeguir', se excluyen asi\n",
    "los 'retweets' y 'replies' del propio @TheBridge_Tech"
   ]
  },
  {
   "cell_type": "code",
   "execution_count": 27,
   "metadata": {},
   "outputs": [
    {
     "data": {
      "text/html": [
       "<div>\n",
       "<style scoped>\n",
       "    .dataframe tbody tr th:only-of-type {\n",
       "        vertical-align: middle;\n",
       "    }\n",
       "\n",
       "    .dataframe tbody tr th {\n",
       "        vertical-align: top;\n",
       "    }\n",
       "\n",
       "    .dataframe thead th {\n",
       "        text-align: right;\n",
       "    }\n",
       "</style>\n",
       "<table border=\"1\" class=\"dataframe\">\n",
       "  <thead>\n",
       "    <tr style=\"text-align: right;\">\n",
       "      <th></th>\n",
       "      <th>tweet_text</th>\n",
       "    </tr>\n",
       "    <tr>\n",
       "      <th>author_name</th>\n",
       "      <th></th>\n",
       "    </tr>\n",
       "  </thead>\n",
       "  <tbody>\n",
       "    <tr>\n",
       "      <th>The Bridge</th>\n",
       "      <td>10</td>\n",
       "    </tr>\n",
       "    <tr>\n",
       "      <th>Mujeres a Seguir</th>\n",
       "      <td>7</td>\n",
       "    </tr>\n",
       "    <tr>\n",
       "      <th>Berta Otero</th>\n",
       "      <td>5</td>\n",
       "    </tr>\n",
       "    <tr>\n",
       "      <th>Indra</th>\n",
       "      <td>3</td>\n",
       "    </tr>\n",
       "    <tr>\n",
       "      <th>Fundación Universia</th>\n",
       "      <td>3</td>\n",
       "    </tr>\n",
       "    <tr>\n",
       "      <th>...</th>\n",
       "      <td>...</td>\n",
       "    </tr>\n",
       "    <tr>\n",
       "      <th>Kairós DS</th>\n",
       "      <td>1</td>\n",
       "    </tr>\n",
       "    <tr>\n",
       "      <th>Kreab España</th>\n",
       "      <td>1</td>\n",
       "    </tr>\n",
       "    <tr>\n",
       "      <th>Mar Lopez</th>\n",
       "      <td>1</td>\n",
       "    </tr>\n",
       "    <tr>\n",
       "      <th>Marcos de la Calle</th>\n",
       "      <td>1</td>\n",
       "    </tr>\n",
       "    <tr>\n",
       "      <th>Maï R. Entem 👩‍💻🇪🇦🇨🇵🇪🇺🇸🇬🌍🚣‍♀️</th>\n",
       "      <td>1</td>\n",
       "    </tr>\n",
       "  </tbody>\n",
       "</table>\n",
       "<p>65 rows × 1 columns</p>\n",
       "</div>"
      ],
      "text/plain": [
       "                               tweet_text\n",
       "author_name                              \n",
       "The Bridge                             10\n",
       "Mujeres a Seguir                        7\n",
       "Berta Otero                             5\n",
       "Indra                                   3\n",
       "Fundación Universia                     3\n",
       "...                                   ...\n",
       "Kairós DS                               1\n",
       "Kreab España                            1\n",
       "Mar Lopez                               1\n",
       "Marcos de la Calle                      1\n",
       "Maï R. Entem 👩‍💻🇪🇦🇨🇵🇪🇺🇸🇬🌍🚣‍♀️           1\n",
       "\n",
       "[65 rows x 1 columns]"
      ]
     },
     "execution_count": 27,
     "metadata": {},
     "output_type": "execute_result"
    }
   ],
   "source": [
    "df.groupby('author_name')[['tweet_text']].count().sort_values('tweet_text',ascending=False)"
   ]
  },
  {
   "cell_type": "markdown",
   "metadata": {},
   "source": [
    "### c. ¿En qué mes se concentra el mayor número de tweets?"
   ]
  },
  {
   "cell_type": "code",
   "execution_count": 33,
   "metadata": {},
   "outputs": [],
   "source": [
    "df['month'] = list(map(lambda x: x.month, df['created_at']))"
   ]
  },
  {
   "cell_type": "markdown",
   "metadata": {},
   "source": [
    "Abril es el mes que concentra el mayor número de tweetsde @TheBridge_Tech"
   ]
  },
  {
   "cell_type": "code",
   "execution_count": 30,
   "metadata": {},
   "outputs": [
    {
     "data": {
      "text/html": [
       "<div>\n",
       "<style scoped>\n",
       "    .dataframe tbody tr th:only-of-type {\n",
       "        vertical-align: middle;\n",
       "    }\n",
       "\n",
       "    .dataframe tbody tr th {\n",
       "        vertical-align: top;\n",
       "    }\n",
       "\n",
       "    .dataframe thead th {\n",
       "        text-align: right;\n",
       "    }\n",
       "</style>\n",
       "<table border=\"1\" class=\"dataframe\">\n",
       "  <thead>\n",
       "    <tr style=\"text-align: right;\">\n",
       "      <th></th>\n",
       "      <th>tweet_text</th>\n",
       "    </tr>\n",
       "    <tr>\n",
       "      <th>month</th>\n",
       "      <th></th>\n",
       "    </tr>\n",
       "  </thead>\n",
       "  <tbody>\n",
       "    <tr>\n",
       "      <th>4</th>\n",
       "      <td>41</td>\n",
       "    </tr>\n",
       "    <tr>\n",
       "      <th>2</th>\n",
       "      <td>17</td>\n",
       "    </tr>\n",
       "    <tr>\n",
       "      <th>3</th>\n",
       "      <td>16</td>\n",
       "    </tr>\n",
       "    <tr>\n",
       "      <th>1</th>\n",
       "      <td>15</td>\n",
       "    </tr>\n",
       "    <tr>\n",
       "      <th>5</th>\n",
       "      <td>9</td>\n",
       "    </tr>\n",
       "  </tbody>\n",
       "</table>\n",
       "</div>"
      ],
      "text/plain": [
       "       tweet_text\n",
       "month            \n",
       "4              41\n",
       "2              17\n",
       "3              16\n",
       "1              15\n",
       "5               9"
      ]
     },
     "execution_count": 30,
     "metadata": {},
     "output_type": "execute_result"
    }
   ],
   "source": [
    "df.groupby('month')[['tweet_text']].count().sort_values('tweet_text',ascending=False)"
   ]
  },
  {
   "cell_type": "markdown",
   "metadata": {},
   "source": [
    "### d. ¿Qué palabras son más frecuentes?"
   ]
  },
  {
   "cell_type": "code",
   "execution_count": 24,
   "metadata": {},
   "outputs": [
    {
     "data": {
      "text/plain": [
       "[('de', 160),\n",
       " ('en', 85),\n",
       " ('@TheBridge_Tech', 83),\n",
       " ('y', 58),\n",
       " ('la', 54),\n",
       " ('el', 54),\n",
       " ('que', 51),\n",
       " ('a', 46),\n",
       " ('con', 40),\n",
       " ('las', 30),\n",
       " ('para', 24),\n",
       " ('un', 21),\n",
       " ('una', 18),\n",
       " ('por', 17),\n",
       " ('los', 17),\n",
       " ('del', 16),\n",
       " ('lo', 13),\n",
       " ('es', 12),\n",
       " ('su', 12),\n",
       " ('#bootcamp', 9),\n",
       " ('sobre', 9),\n",
       " ('no', 8),\n",
       " ('@Globant', 8),\n",
       " ('te', 8),\n",
       " ('▪️', 8),\n",
       " ('becas', 8),\n",
       " ('Web', 8),\n",
       " ('@TheBridge_Tech.', 7),\n",
       " ('más', 7),\n",
       " ('digital', 7),\n",
       " ('se', 7),\n",
       " ('nos', 7),\n",
       " ('#mujerytecnología', 7),\n",
       " ('este', 7),\n",
       " ('personas', 7),\n",
       " ('Desarrollo', 7),\n",
       " ('Full-stack', 7),\n",
       " ('El', 6),\n",
       " ('hay', 6),\n",
       " ('futuro', 6),\n",
       " ('La', 6),\n",
       " ('todos', 6),\n",
       " ('junto', 6),\n",
       " ('@bertinha84', 6),\n",
       " ('@IndraCompany', 6),\n",
       " ('#discapacidad', 6),\n",
       " ('#STEM', 6),\n",
       " ('tu', 5),\n",
       " ('En', 5),\n",
       " ('Si', 5),\n",
       " ('the', 5),\n",
       " (',', 5),\n",
       " ('todo', 5),\n",
       " ('Inteligencia', 5),\n",
       " ('Artificial', 5),\n",
       " ('@Adalab_Digital', 5),\n",
       " ('alumnos', 5),\n",
       " ('curso', 5),\n",
       " ('realización', 5),\n",
       " ('💻', 5),\n",
       " ('dirigidas', 5),\n",
       " ('formaciones', 5),\n",
       " ('10', 5),\n",
       " ('profesional', 4),\n",
       " ('@ikerarceseco', 4),\n",
       " ('@TheBridge_Tech,', 4),\n",
       " ('to', 4),\n",
       " ('mano', 4),\n",
       " ('talento', 4),\n",
       " ('@kairos_ds', 4),\n",
       " ('da', 4),\n",
       " ('muy', 4),\n",
       " ('poder', 4),\n",
       " ('nuestro', 4),\n",
       " ('tener', 4),\n",
       " ('@CodenotchMAD', 4),\n",
       " ('Muy', 4),\n",
       " ('1', 4),\n",
       " ('formación', 4),\n",
       " ('al', 4),\n",
       " ('@peritecno', 4),\n",
       " ('puedes', 4),\n",
       " ('otorgamos', 4),\n",
       " ('📲', 4),\n",
       " ('haciendo', 3),\n",
       " ('camino', 3),\n",
       " ('Gracias', 3),\n",
       " ('tecnología', 3),\n",
       " ('charla', 3),\n",
       " ('bien', 3),\n",
       " ('os', 3),\n",
       " ('sector', 3),\n",
       " ('and', 3),\n",
       " ('diseño', 3),\n",
       " ('día', 3),\n",
       " ('mesa', 3),\n",
       " ('donde', 3),\n",
       " ('entre', 3),\n",
       " ('me', 3),\n",
       " ('hablar', 3)]"
      ]
     },
     "execution_count": 24,
     "metadata": {},
     "output_type": "execute_result"
    }
   ],
   "source": [
    "from collections import Counter\n",
    "\n",
    "Counter(\" \".join(df[\"tweet_text\"]).split()).most_common(100)"
   ]
  },
  {
   "cell_type": "markdown",
   "metadata": {},
   "source": [
    "### e. ¿Qué tipo de correlación matemática encuentras entre las métricas públicas?"
   ]
  },
  {
   "cell_type": "code",
   "execution_count": 36,
   "metadata": {},
   "outputs": [
    {
     "data": {
      "text/plain": [
       "<seaborn.axisgrid.PairGrid at 0x22f1e434608>"
      ]
     },
     "execution_count": 36,
     "metadata": {},
     "output_type": "execute_result"
    },
    {
     "data": {
      "image/png": "[encoded data removed]",
      "text/plain": [
       "<Figure size 720x720 with 20 Axes>"
      ]
     },
     "metadata": {
      "needs_background": "light"
     },
     "output_type": "display_data"
    }
   ],
   "source": [
    "import seaborn as sns\n",
    "\n",
    "sns.pairplot(df, vars=['retweet_count', 'reply_count', 'like_count', 'quote_count'])"
   ]
  },
  {
   "cell_type": "markdown",
   "metadata": {},
   "source": [
    "No significant correlation"
   ]
  }
 ],
 "metadata": {
  "interpreter": {
   "hash": "21ab4b72b60449af3fe632813181bd722bdf790ffb7d61f4915724480da6eb87"
  },
  "kernelspec": {
   "display_name": "Python 3.7.4 64-bit",
   "language": "python",
   "name": "python3"
  },
  "language_info": {
   "codemirror_mode": {
    "name": "ipython",
    "version": 3
   },
   "file_extension": ".py",
   "mimetype": "text/x-python",
   "name": "python",
   "nbconvert_exporter": "python",
   "pygments_lexer": "ipython3",
   "version": "3.7.4"
  },
  "orig_nbformat": 4
 },
 "nbformat": 4,
 "nbformat_minor": 2
}
